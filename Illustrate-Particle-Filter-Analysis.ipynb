{
 "cells": [
  {
   "cell_type": "markdown",
   "metadata": {},
   "source": [
    "# Illustration of a particle filter analysis\n",
    "\n",
    "* Emmanuel Cosme, 2017\n",
    "* Particle filter analysis\n"
   ]
  },
  {
   "cell_type": "markdown",
   "metadata": {},
   "source": [
    "## Import modules"
   ]
  },
  {
   "cell_type": "code",
   "execution_count": 1,
   "metadata": {},
   "outputs": [],
   "source": [
    "import numpy as np\n",
    "import matplotlib.pyplot as plt\n",
    "%matplotlib inline"
   ]
  },
  {
   "cell_type": "markdown",
   "metadata": {},
   "source": [
    "## 1. Prior ensemble\n",
    "\n",
    "We consider a physical system described by two variables. In the cell below, we form an ensemble of possible realizations of this system, based on prior statistical parameters."
   ]
  },
  {
   "cell_type": "code",
   "execution_count": 22,
   "metadata": {},
   "outputs": [
    {
     "data": {
      "text/plain": [
       "[<matplotlib.lines.Line2D at 0x118cbeb70>]"
      ]
     },
     "execution_count": 22,
     "metadata": {},
     "output_type": "execute_result"
    },
    {
     "data": {
      "image/png": "[encoded data removed]",
      "text/plain": [
       "<Figure size 432x288 with 1 Axes>"
      ]
     },
     "metadata": {
      "needs_background": "light"
     },
     "output_type": "display_data"
    }
   ],
   "source": [
    "mu = np.zeros(2) #the means of the enssemble in two dimession\n",
    "pmat = np.array([[1., 0.5], [0.5, 1.]]) #intervals for the enssemble\n",
    "Nmem = 10 #number of members\n",
    "xxb = np.random.multivariate_normal(mu, pmat, Nmem) #creates a random 2D array with the conditions. \n",
    "plt.plot(xxb[:,0], xxb[:,1], 'o')"
   ]
  },
  {
   "cell_type": "markdown",
   "metadata": {},
   "source": [
    "## 2. Likelihood function and particle filter analysis function\n",
    "\n",
    "Our likelihood function is a Gaussian. The particle filter analysis makes use of the likelihood function. Note the the particle analysis function generates prints that can be commented."
   ]
  },
  {
   "cell_type": "code",
   "execution_count": 4,
   "metadata": {},
   "outputs": [],
   "source": [
    "def likelihood(y_in, yo_in, Ro_in):\n",
    "    \"\"\"\n",
    "    Ro_in = covariance matrix of the obs.\n",
    "    y_in\n",
    "    \n",
    "    \"\"\"\n",
    "    innovation = yo_in - y_in\n",
    "    invRo = np.linalg.inv(Ro_in)\n",
    "    xtmp = np.dot(invRo, innovation)\n",
    "    xtmp = -0.5 * np.dot(innovation, xtmp)\n",
    "    xtmp = np.exp(xtmp)\n",
    "    return xtmp\n",
    "\n",
    "def particle_filter_analysis(xxb_in, Ho_in, yo_in, Ro_in):\n",
    "    \"\"\"Perform particle filter analysis\"\"\"\n",
    "    Nm = np.shape(xxb_in)[0]     # ensemble size\n",
    "    \n",
    "    ## Computation of weights\n",
    "    weight = np.zeros(Nm)\n",
    "    yyb = np.inner(Ho_in, xxb_in)\n",
    "    for i in range(Nm):\n",
    "        weight[i] = likelihood( yyb[:,i], yo_in, Ro_in )\n",
    "    weight /= np.sum(weight)\n",
    "    print(weight)\n",
    "    \n",
    "    ## Resampling (Kitagawa method), not including dispersion\n",
    "    indices=[0]*Nm\n",
    "    cdf = np.zeros(Nm)\n",
    "    for i in range(Nm):\n",
    "        cdf[i] = np.sum(weight[:i+1])\n",
    "    urand = np.random.random()/Nm\n",
    "    for i in range(Nm):\n",
    "        indices[i] = np.searchsorted(cdf, urand)\n",
    "        urand += 1./Nm\n",
    "    xxa_out = xxb_in[indices,:]\n",
    "    print(indices)\n",
    "    return xxa_out"
   ]
  },
  {
   "cell_type": "markdown",
   "metadata": {},
   "source": [
    "The gauss2D function below is for plots only."
   ]
  },
  {
   "cell_type": "code",
   "execution_count": 5,
   "metadata": {},
   "outputs": [],
   "source": [
    "def gauss2D(x_in, y_in, mu, mat, dx):\n",
    "    \"\"\"Compute 2D Gaussian function.\n",
    "    x and y are meshgrid arrays.\"\"\"\n",
    "    gout = np.zeros_like(x_in)\n",
    "    gs = np.shape(gout)\n",
    "    invmat = np.linalg.inv(mat)\n",
    "    for j in range(gs[1]):\n",
    "        for i in range(gs[0]):\n",
    "            xtmp = np.array([ x_in[i,j], y_in[i,j] ])\n",
    "            xtmp = xtmp - mu\n",
    "            xtmp2 = np.dot(invmat, xtmp)\n",
    "            xtmp = np.dot(xtmp,xtmp2)\n",
    "            xtmp = -0.5 * xtmp\n",
    "            xtmp = np.exp(xtmp)\n",
    "            gout[i,j] = xtmp\n",
    "    intgs = np.sum(gout)*dx\n",
    "    gout /= intgs\n",
    "    return gout"
   ]
  },
  {
   "cell_type": "markdown",
   "metadata": {},
   "source": [
    "## 3. Particle filter analysis\n",
    "\n",
    "We process a newly collected observation of the system, noted $yo$ with covariance matrix $Ro$, with a particle filter analysis. On the figure, the selected particle are in red. The likelihood is shaded in grey (The gauss2D function is used here). Note in the prints that without dispersion, many analysed particles are equal to each other."
   ]
  },
  {
   "cell_type": "code",
   "execution_count": 24,
   "metadata": {},
   "outputs": [
    {
     "name": "stdout",
     "output_type": "stream",
     "text": [
      "[1.32509921e-27 3.29302367e-01 2.53248935e-25 4.36731264e-13\n",
      " 2.44746415e-15 7.18740236e-06 2.09411690e-07 6.69303881e-01\n",
      " 2.09055345e-06 1.38426512e-03]\n",
      "[1, 1, 1, 1, 7, 7, 7, 7, 7, 7]\n"
     ]
    },
    {
     "data": {
      "image/png": "[encoded data removed]",
      "text/plain": [
       "<Figure size 432x288 with 1 Axes>"
      ]
     },
     "metadata": {
      "needs_background": "light"
     },
     "output_type": "display_data"
    }
   ],
   "source": [
    "mu = np.zeros(2) #the means of the enssemble in two dimession\n",
    "pmat = np.array([[1., 0.5], [0.5, 1.]]) #intervals for the enssemble\n",
    "Nmem = 10 #number of members\n",
    "xxb = np.random.multivariate_normal(mu, pmat, Nmem) #creates a random 2D array with the conditions. \n",
    "\n",
    "Ho = np.eye(2)\n",
    "yo = np.array([1.5, 1.5])\n",
    "Ro = 0.09*np.eye(2)\n",
    "xxa = particle_filter_analysis(xxb, Ho, yo, Ro)\n",
    "\n",
    "X = np.arange(-1., 4., 0.25)\n",
    "Y = np.arange(-1., 4., 0.25)\n",
    "X, Y = np.meshgrid(X, Y)\n",
    "Z = gauss2D(X, Y, yo, Ro, 0.25)\n",
    "plt.figure()\n",
    "plt.plot(xxb[:,0], xxb[:,1], 'bo', markersize=6)\n",
    "plt.plot(xxa[:,0], xxa[:,1], 'ro', markersize=6)\n",
    "plt.contourf(X,Y,Z,cmap='Greys')\n",
    "plt.plot(yo[0], yo[1], 'ks', markersize=8)\n",
    "plt.show()"
   ]
  },
  {
   "cell_type": "markdown",
   "metadata": {
    "collapsed": true
   },
   "source": [
    "## 4. To be continued...\n",
    "\n",
    "Resampling in the particle filter analysis allows us to preserve ensemble size, but many ensemble members are similar (there actually are 10 red dots on the figure above, all superposed to each other). In realistic implementations, it is essential to introduce a process that regenerates the ensemble after the analysis. This can be done by simulating the model error during the next forecast step. "
   ]
  },
  {
   "cell_type": "code",
   "execution_count": null,
   "metadata": {},
   "outputs": [],
   "source": []
  },
  {
   "cell_type": "code",
   "execution_count": null,
   "metadata": {},
   "outputs": [],
   "source": []
  }
 ],
 "metadata": {
  "kernelspec": {
   "display_name": "Python 3",
   "language": "python",
   "name": "python3"
  },
  "language_info": {
   "codemirror_mode": {
    "name": "ipython",
    "version": 3
   },
   "file_extension": ".py",
   "mimetype": "text/x-python",
   "name": "python",
   "nbconvert_exporter": "python",
   "pygments_lexer": "ipython3",
   "version": "3.7.3"
  }
 },
 "nbformat": 4,
 "nbformat_minor": 1
}
