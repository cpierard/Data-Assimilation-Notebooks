{
 "cells": [
  {
   "cell_type": "markdown",
   "metadata": {},
   "source": [
    "# Basic elements in probabilbity and statistics\n",
    "\n",
    "## 1. Probabilbity \n",
    "\n",
    "### 1.1 Random experiment\n",
    "\n",
    "Mathematically described:\n",
    "\n",
    "- $\\Omega$: all possible outcomes of an experiment, the result of which cannot be perfectly prdicted.\n",
    "\n",
    "- Subsets of $\\Omega$, called envents.\n",
    "\n",
    "- A probability numerical expression of a state of knowledge, $\\rho$ is for any disjoint events A and B.\n",
    "\n",
    "$$A \\cap B = $$\n",
    "\n",
    "$$0 < P(A) \\leqslant 1$$\n",
    "\n",
    "$$P(\\Omega) = 1$$\n",
    "\n",
    "$$P(A \\cup B) = P(A) + P(B).$$"
   ]
  },
  {
   "cell_type": "markdown",
   "metadata": {},
   "source": [
    "### 1.2 Conditional probability\n",
    " $$P(A|B) = \\frac{P(A\\cap B)}{P(B)}$$\n",
    " \n",
    " We have 2 dice, results noted $x_1$ and $x_2$. $x_1, x_2$: ramndom variables.\n",
    " \n",
    " $A = {x_1 + x_2 = 12}$ this implies that $P(A) = 1/36$.\n",
    " \n",
    " $B = {x_1 = 4}$ this implies that $P(B) = 1/6$.\n",
    " \n",
    " Then, $P(A|B) = 0$."
   ]
  },
  {
   "cell_type": "markdown",
   "metadata": {},
   "source": [
    "## 2. Real random variables\n",
    "\n",
    "Random variable: outcome of a random expression. \n",
    "\n",
    "Real RV: takes values in $\\R$ or $\\R^+$ or intervals of $\\R$."
   ]
  },
  {
   "cell_type": "markdown",
   "metadata": {},
   "source": [
    "## 2.2 Joint and conditional pdf's"
   ]
  },
  {
   "cell_type": "markdown",
   "metadata": {},
   "source": [
    "## 3. Implication of this: Bayes rule\n",
    "\n"
   ]
  },
  {
   "cell_type": "code",
   "execution_count": null,
   "metadata": {},
   "outputs": [],
   "source": []
  }
 ],
 "metadata": {
  "kernelspec": {
   "display_name": "Python 3",
   "language": "python",
   "name": "python3"
  },
  "language_info": {
   "codemirror_mode": {
    "name": "ipython",
    "version": 3
   },
   "file_extension": ".py",
   "mimetype": "text/x-python",
   "name": "python",
   "nbconvert_exporter": "python",
   "pygments_lexer": "ipython3",
   "version": "3.7.3"
  }
 },
 "nbformat": 4,
 "nbformat_minor": 2
}
